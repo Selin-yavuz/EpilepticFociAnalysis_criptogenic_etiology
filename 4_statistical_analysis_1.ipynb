{
 "cells": [
  {
   "cell_type": "markdown",
   "id": "28d8ae57",
   "metadata": {},
   "source": [
    "\n",
    "\n",
    "This coding script makes:\n",
    "\n",
    "    - Statictical analysis by using:\n",
    "\n",
    "        1 - Mann Whitney U test : gives p values\n",
    "        2 - ROC curve analysis : gives AUC ( area under curve)\n",
    "        3 - Reducing features by selecting the best 'power'\n",
    "        \n",
    "    - The script has an option (Collective analysis )for evaluating together different plane MRI data from same sequence.\n",
    "    \n",
    "----------\n",
    "\n",
    "\n",
    "## CONTENTS\n",
    "\n",
    "-    [1. importing necessary libraries](#1)   \n",
    "         1.1 importing puclic libraries:\n",
    "               --if this box is giving an error, this mean you need to check libraries in this cell, \n",
    "               you need    to install them               \n",
    "         1.2 importing user-defined libraries \n",
    "               --if this box is giving an error, this mean you need to check\n",
    "               ipynb file(jupyter notebook) with the name of  'project_helper_functions_classes' \n",
    "               within your working directory\n",
    "                             \n",
    "-    [2. Preperation of input informations](#2) \n",
    "         -- check and set ONLY PARTS : \"2.1, 2.2, 2.2\"     \n",
    "         2.1 Specify folder paths\n",
    "               -- you need to check this box for defining folders correctly         \n",
    "         2.2 specify features\n",
    "               -- in this part, you will chose:\n",
    "                   1 - p and AUC values limits for define statistical analysis as a meaningful\n",
    "                   2 - if you would like to make collective analysis \n",
    "                       (evaluating subfolders together that belong to the same sequence)\n",
    "                   3 - if you would like to make collective analysis, you need to specify subfolders\n",
    "                        and their sequences                         \n",
    "         2.3  specify csv paths for save stat results\n",
    "                -- specify if you would like to take p and AUC values with features as a csv file\n",
    "                -- you need to specify csv paths for saving statistic results\n",
    "         Note:  not change this part\n",
    "         2.4 preparing file paths for processing and folders for saving MRC results \n",
    "                \n",
    "-    [3. Statistical Analysis](#3)    \n",
    "          3.1 analysis for subfolders seperately\n",
    "            - make Mann-Whitney U Test, ROC Curve Analysis\n",
    "            - Reducing feature numbers:\n",
    "                For features whose all features same but only powers are different; \n",
    "                select 1 feature(1 power) has the maximum AUC score        \n",
    "            - Save results to csv files\n",
    "         3.2 analysis for MRI sequences collectively\n",
    "             -- calculations same as 3.1 for united MRC data\n",
    "\n"
   ]
  },
  {
   "cell_type": "markdown",
   "id": "c9c41b28",
   "metadata": {},
   "source": [
    "<a name='1'></a>\n",
    "# 1. importing necessary libraries"
   ]
  },
  {
   "cell_type": "markdown",
   "id": "55b88863",
   "metadata": {},
   "source": [
    "### 1.1 importing puclic libraries"
   ]
  },
  {
   "cell_type": "code",
   "execution_count": 1,
   "id": "d69305d6",
   "metadata": {},
   "outputs": [],
   "source": [
    "import pandas as pd\n",
    "import os\n",
    "from tqdm import tqdm"
   ]
  },
  {
   "cell_type": "markdown",
   "id": "5664632e",
   "metadata": {},
   "source": [
    "### 1.2 importing user-defined libraries "
   ]
  },
  {
   "cell_type": "code",
   "execution_count": 2,
   "id": "84e60864",
   "metadata": {},
   "outputs": [],
   "source": [
    "from ipynb.fs.full.project_helper_functions_classes import *"
   ]
  },
  {
   "cell_type": "markdown",
   "id": "c7943a3d",
   "metadata": {},
   "source": [
    "<a name='2'></a>\n",
    "# 2. Preperation of input informations"
   ]
  },
  {
   "cell_type": "markdown",
   "id": "046391f1",
   "metadata": {},
   "source": [
    "### 2.1 Specify folder paths"
   ]
  },
  {
   "cell_type": "code",
   "execution_count": 3,
   "id": "567bd890",
   "metadata": {},
   "outputs": [],
   "source": [
    "data_root_folder = 'data'\n",
    "output_root_folder = 'output'      \n",
    "MRC_results_folder = 'MRC_results'\n",
    "case_info_excel_file = 'MRI_informations.xlsx'\n",
    "stat_results_folder = 'MRC_stat_results'  # folder name for saving statistic results, will be created in output folder"
   ]
  },
  {
   "cell_type": "markdown",
   "id": "d1be8b17",
   "metadata": {},
   "source": [
    "### 2.2 specify features"
   ]
  },
  {
   "cell_type": "code",
   "execution_count": 4,
   "id": "70790714",
   "metadata": {},
   "outputs": [],
   "source": [
    "# specify limits for accepting AUC and p meaningful\n",
    "lim_auc = 0.70           ## the values more then lim_auc will be accept as meaningful\n",
    "lim_p = 0.01             ## the values less then lim_p will be accept as meaningful\n",
    "\n",
    "# True: make collective analysis, False: don't make\n",
    "make_collective_analysis = True\n",
    "\n",
    "# specify MRI sequences with their subfolders if you would like to make collective analysis (if : make_collective_analysis = True)\n",
    "sequences = {'t1': ['t1_tra', 't1_sag'], 't2' : ['t2_cor', 't2_tra']}"
   ]
  },
  {
   "cell_type": "markdown",
   "id": "c5db8c73",
   "metadata": {},
   "source": [
    "### 2.3 specify csv paths and features for save stat results"
   ]
  },
  {
   "cell_type": "code",
   "execution_count": 5,
   "id": "b4be1926",
   "metadata": {},
   "outputs": [],
   "source": [
    "# spcify path for saving selected features based on statistical analysis\n",
    "selected_features_csv = 'selected_features.csv'\n",
    "selected_collective_features_csv = 'selected_features_coll.csv' # if you want to make collective analysis\n",
    "\n",
    "# specify if you would like to sort features based on stat results\n",
    "sort_columns = True\n",
    "\n",
    "# specify if you would like to save stat results (makes False if you don't want, make True if you want):\n",
    "take_p_csv = True\n",
    "take_auc_csv = True\n",
    "take_meaningful_csv = True\n",
    "\n",
    "## csv paths for single subfolder analysis\n",
    "p_csv = 'p_values.csv'\n",
    "auc_csv = 'auc_values.csv'\n",
    "meaningful_stat_csv = 'meaningful_stats.csv'\n",
    "\n",
    "\n",
    "# specify if you would like to save stat results (makes False if you don't want, make True if you want):\n",
    "take_collective_p_csv = True\n",
    "take_collective_auc_csv = True\n",
    "take_collective_meaningful_csv = True\n",
    "\n",
    "## csv paths for collective analysis (if : make_collective_analysis = True)\n",
    "p_collective_csv = 'p_values_collective.csv'\n",
    "auc_collective_csv = 'auc_values_collective.csv'\n",
    "meaningful_collective_stat_csv = 'meaningful_collective_stats.csv'\n"
   ]
  },
  {
   "cell_type": "markdown",
   "id": "d1a3b5c7",
   "metadata": {},
   "source": [
    "### 2.4 preparing file paths for processing and folders for saving MRC results "
   ]
  },
  {
   "cell_type": "code",
   "execution_count": 6,
   "id": "27b8df5e",
   "metadata": {},
   "outputs": [],
   "source": [
    "\n",
    "\n",
    "## specifying paths\n",
    "stripped_path =  os.path.abspath(os.path.join(data_root_folder, 'stripped'))\n",
    "MRC_path = os.path.abspath(os.path.join(output_root_folder, MRC_results_folder))\n",
    "case_info_path = os.path.abspath(os.path.join(output_root_folder, case_info_excel_file))\n",
    "\n",
    "## create folder for saving statistic results\n",
    "stat_result_path = create_folder(os.path.join(output_root_folder,stat_results_folder))\n",
    "\n",
    "## specify main folders lists\n",
    "situations = take_folder_list(stripped_path)\n",
    "\n",
    "## specify subfolders lists for each situation (control and patients)\n",
    "subfolders = {}\n",
    "for situation in situations:\n",
    "    subfolders[situation] = take_folder_list(os.path.join(stripped_path, situation))\n",
    "    \n",
    "control_id = [situation for situation in situations if 'c' == situation[0]][0]\n",
    "patient_id = [situation for situation in situations if 'p' == situation[0]][0]\n",
    "    \n",
    "## specify mutual subfolders for situations\n",
    "mutual_subfolders = take_mutual_members(subfolders)\n"
   ]
  },
  {
   "cell_type": "markdown",
   "id": "bedd4ef3",
   "metadata": {},
   "source": [
    "<a name='3'></a>\n",
    "# 3. Statistical Analysis\n",
    "     -Mann Whitney U Test (p value)\n",
    "     -ROC Curve Analysis  (AUC)\n",
    "     - power analysis"
   ]
  },
  {
   "cell_type": "markdown",
   "id": "d1393a3b",
   "metadata": {},
   "source": [
    "### 3.1 analysis for subfolders seperately"
   ]
  },
  {
   "cell_type": "code",
   "execution_count": 7,
   "id": "d60661f9",
   "metadata": {},
   "outputs": [
    {
     "name": "stderr",
     "output_type": "stream",
     "text": [
      "100%|█████████████████████████████████████████████| 5/5 [01:10<00:00, 14.02s/it]\n"
     ]
    },
    {
     "name": "stdout",
     "output_type": "stream",
     "text": [
      "statistic calculations for per single MRI subfolder has been finished\n"
     ]
    }
   ],
   "source": [
    "## specify column names for identify values in lists\n",
    "column = ['MRI_type', 'shape', 'primary_rate', 'secondary_rate', 'step', 'power']\n",
    "\n",
    "all_p_results, all_AUC_results, meaningful_results = [], [], []\n",
    "all_selected_features = []\n",
    "\n",
    "for subfolder in tqdm(mutual_subfolders) :\n",
    "    \n",
    "    controls_csv_files_paths = take_spesific_files_paths(os.path.join(MRC_path, control_id, subfolder), '.csv')    \n",
    "    patients_csv_files_paths = take_spesific_files_paths(os.path.join(MRC_path, patient_id, subfolder), '.csv')\n",
    "    \n",
    "    ## calculation of p value (Mann-Whitney U) and AUC (ROC Curve analysis)    \n",
    "    cs = analyse_MRC_results(controls_csv_files_paths, patients_csv_files_paths)   \n",
    "    p_results, AUC_results, meaningful_features = cs.take_stats(folder_type = subfolder, \n",
    "                                                                auc_limit = lim_auc, p_limit = lim_p)\n",
    "    \n",
    "    selected_features = cs.power_analysis()\n",
    "    all_selected_features.extend(selected_features)\n",
    " \n",
    "    ## store results \n",
    "    if take_p_csv:\n",
    "        all_p_results.extend(p_results)\n",
    "    if take_auc_csv :\n",
    "        all_AUC_results.extend(AUC_results)\n",
    "    if take_meaningful_csv :\n",
    "        meaningful_results.extend(meaningful_features)\n",
    "\n",
    "\n",
    "\n",
    "## save results to csv files\n",
    "save_stat_to_csv(all_selected_features, labels = column  + ['AUC_value', 'p_value'], \n",
    "                     path = os.path.join(stat_result_path, selected_features_csv), \n",
    "                     sort_columns = sort_columns,\n",
    "                     ascending_order = False, sorting_columns = ['AUC_value', 'p_value'])       \n",
    "if take_p_csv: \n",
    "    save_stat_to_csv(all_p_results, labels = column + ['p_value'], \n",
    "                     path = os.path.join(stat_result_path, p_csv), sort_columns = sort_columns,\n",
    "                     ascending_order = True, sorting_columns = ['p_value'])\n",
    "if take_auc_csv :\n",
    "    save_stat_to_csv(all_AUC_results, labels = column + ['AUC_value'], \n",
    "                     path = os.path.join(stat_result_path, auc_csv), sort_columns = sort_columns,\n",
    "                     ascending_order = False, sorting_columns = ['AUC_value'])\n",
    "if take_meaningful_csv :\n",
    "    save_stat_to_csv(meaningful_results, labels = column + ['AUC_value', 'p_value'], \n",
    "                 path = os.path.join(stat_result_path, meaningful_stat_csv), sort_columns = sort_columns,\n",
    "                 ascending_order = False, sorting_columns = ['AUC_value', 'p_value'])\n",
    "\n",
    "del all_p_results, take_auc_csv,  take_meaningful_csv, all_selected_features # we don't need anymore \n",
    "print('statistic calculations for per single MRI subfolder has been finished')"
   ]
  },
  {
   "cell_type": "markdown",
   "id": "e450e59c",
   "metadata": {},
   "source": [
    "### 3.2 analysis for MRI sequences collectively"
   ]
  },
  {
   "cell_type": "code",
   "execution_count": null,
   "id": "aa1fdaa6",
   "metadata": {},
   "outputs": [
    {
     "name": "stderr",
     "output_type": "stream",
     "text": [
      " 50%|██████████████████████▌                      | 1/2 [00:14<00:14, 14.33s/it]"
     ]
    }
   ],
   "source": [
    "## make sequences folder empity if user don't want collective analysis\n",
    "if not make_collective_analysis:\n",
    "    sequences = {}\n",
    "    \n",
    "## specify column names for identify values in lists\n",
    "column = ['sequence', 'shape', 'primary_rate', 'secondary_rate', 'step', 'power']\n",
    "\n",
    "all_p_results, all_AUC_results, meaningful_results = [], [], []\n",
    "all_selected_features = []\n",
    "\n",
    "for key in tqdm(sequences.keys()):\n",
    "    \n",
    "    controls_csv_files_paths, patients_csv_files_paths = {}, {}\n",
    "    \n",
    "    for subfolder in sequences[key] : \n",
    "        \n",
    "        controls_csv_files_paths[subfolder] = take_spesific_files_paths(os.path.join(MRC_path, control_id, subfolder),'.csv')        \n",
    "        patients_csv_files_paths[subfolder] = take_spesific_files_paths(os.path.join(MRC_path, patient_id, subfolder), '.csv')\n",
    "    \n",
    "    ## calculation of p value (Mann-Whitney U) and AUC (ROC Curve analysis) \n",
    "    cs = analyse_MRC_results(collective_evaluation=make_collective_analysis)      \n",
    "    cs.activate_collective_evaluation(controls_csv_files_paths, patients_csv_files_paths, \n",
    "                            sequence_folders = sequences[key], caseid_info_file=case_info_path, \n",
    "                                      control_id = control_id, patient_id = patient_id)    \n",
    "    p_results, AUC_results, meaningful_features = cs.take_stats(folder_type = key, \n",
    "                                                                auc_limit = lim_auc, p_limit = lim_p)        \n",
    "    selected_features = cs.power_analysis()\n",
    "    all_selected_features.extend(selected_features)    \n",
    "    ## store results\n",
    "    if take_collective_p_csv:\n",
    "        all_p_results.extend(p_results)\n",
    "    if take_collective_auc_csv:\n",
    "        all_AUC_results.extend(AUC_results)\n",
    "    if take_collective_meaningful_csv:    \n",
    "        meaningful_results.extend(meaningful_features)\n",
    "    \n",
    "\n",
    "## save results to csv files\n",
    "if make_collective_analysis:    \n",
    "    save_stat_to_csv(all_selected_features, labels = column  + ['AUC_value', 'p_value'], \n",
    "                         path = os.path.join(stat_result_path, selected_collective_features_csv),\n",
    "                         sort_columns = sort_columns,\n",
    "                         ascending_order = False, sorting_columns = ['AUC_value', 'p_value'])        \n",
    "    if take_collective_p_csv:\n",
    "        save_stat_to_csv(all_p_results, labels = column + ['p_value'], \n",
    "                         path = os.path.join(stat_result_path, p_collective_csv), sort_columns = sort_columns,\n",
    "                         ascending_order = True, sorting_columns = ['p_value'])    \n",
    "    if take_collective_auc_csv:\n",
    "        save_stat_to_csv(all_AUC_results, labels = column + ['AUC_value'], \n",
    "                         path = os.path.join(stat_result_path, auc_collective_csv), sort_columns = sort_columns,\n",
    "                         ascending_order = False, sorting_columns = ['AUC_value'])\n",
    "    if take_collective_meaningful_csv:\n",
    "        save_stat_to_csv(meaningful_results, labels = column + ['AUC_value', 'p_value'], \n",
    "                         path = os.path.join(stat_result_path, meaningful_collective_stat_csv), sort_columns = sort_columns,\n",
    "                         ascending_order = False, sorting_columns = ['AUC_value', 'p_value'])\n",
    "print('statistic calculations for per collective MRI sequences has been finished')"
   ]
  }
 ],
 "metadata": {
  "kernelspec": {
   "display_name": "Python 3 (ipykernel)",
   "language": "python",
   "name": "python3"
  },
  "language_info": {
   "codemirror_mode": {
    "name": "ipython",
    "version": 3
   },
   "file_extension": ".py",
   "mimetype": "text/x-python",
   "name": "python",
   "nbconvert_exporter": "python",
   "pygments_lexer": "ipython3",
   "version": "3.9.13"
  }
 },
 "nbformat": 4,
 "nbformat_minor": 5
}

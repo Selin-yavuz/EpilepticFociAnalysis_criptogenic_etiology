{
 "cells": [
  {
   "cell_type": "markdown",
   "id": "8011d6bb",
   "metadata": {},
   "source": [
    "\n",
    "\n",
    "This coding script gives a command list for running in the terminal in order to skull stripping\n",
    "--with the given list you could process multipl files together with 1 command\n",
    "     \n",
    "----------\n",
    "\n",
    "## CONTENTS\n",
    "\n",
    "-    [1. importing necessary libraries](#1)    \n",
    "         1.1 importing puclic libraries:        \n",
    "               --if this box is giving an error, this mean you need to check libraries in this cell, \n",
    "               you need    to install them               \n",
    "         1.2 importing user-defined libraries \n",
    "               --if this box is giving an error, this mean you need to check\n",
    "               ipynb file(jupyter notebook) with the name of  'project_helper_functions_classes' \n",
    "               within your working directory\n",
    "               \n",
    "-    [2. Preperation of input informations](#2)            \n",
    "          2.1 Specify folder paths \n",
    "              for correctly loading inputs and getting desired output paths               \n",
    "          2.2 preparing necessary paths and folder           \n",
    "          2.3 preparing file paths for skull stripping and folder for saving stripped files (don't edit)\n",
    "          \n",
    "-    [3. create command list for terminal](#3)    \n",
    "          3.1 create list which includes all files          \n",
    "          3.2 choose range to process scull stripping from terminal          \n",
    "              -- THIS PART COULD BE EDIT depending on \n",
    "              how many files you would like to process at the same time\n",
    "              -- additional explanations were given within cell              \n",
    "          3.3 print command list \n",
    "               for using this list in terminal, you need to activate Free Surfer in terminal\n",
    "               activation commands were given below\n",
    "               \n",
    "-------------------               \n",
    "\n",
    "activation commands for freesurfer : \n",
    "\n",
    "export FREESURFER_HOME=/Applications/freesurfer/7.3.2\n",
    "source $FREESURFER_HOME/SetUpFreeSurfer.sh\n",
    "\n",
    "\n",
    "you can enter command above for activation of free surfer from terminal\n",
    "\n",
    "after activation of freesurfer, you can copy past command list \n",
    "which will be obtained by this code script\n",
    "\n",
    "Note: for this process, you need to download FreeSurfer and SynthStrip\n",
    "You can look at the details from :\n",
    "\n",
    "https://surfer.nmr.mgh.harvard.edu/docs/synthstrip/\n",
    "\n"
   ]
  },
  {
   "cell_type": "markdown",
   "id": "f5ef017e",
   "metadata": {},
   "source": [
    "<a name='1'></a>\n",
    "# 1. importing necessary libraries"
   ]
  },
  {
   "cell_type": "code",
   "execution_count": 1,
   "id": "e2e32ba2",
   "metadata": {},
   "outputs": [],
   "source": [
    "# 1.1 importing puclic libraries\n",
    "import os"
   ]
  },
  {
   "cell_type": "code",
   "execution_count": 2,
   "id": "bd8a1e09",
   "metadata": {},
   "outputs": [],
   "source": [
    "# 1.2 importing user-defined libraries\n",
    "from ipynb.fs.full.project_helper_functions_classes import create_folder, check_if_files_corresponding \n",
    "from ipynb.fs.full.project_helper_functions_classes import take_folder_list, take_spesific_file_names"
   ]
  },
  {
   "cell_type": "markdown",
   "id": "7db1c08c",
   "metadata": {},
   "source": [
    "<a name='2'></a>\n",
    "# 2. Preperation of input informations "
   ]
  },
  {
   "cell_type": "code",
   "execution_count": 3,
   "id": "84673af1",
   "metadata": {},
   "outputs": [],
   "source": [
    "# 2.1 Specify folder paths\n",
    "root_data_folder = 'data'"
   ]
  },
  {
   "cell_type": "code",
   "execution_count": 4,
   "id": "87322960",
   "metadata": {},
   "outputs": [
    {
     "data": {
      "text/plain": [
       "'/Users/selinyavuzilik/Desktop/epilepsy_codes/data/stripped_data'"
      ]
     },
     "execution_count": 4,
     "metadata": {},
     "output_type": "execute_result"
    }
   ],
   "source": [
    "# 2.2 preparing necessary paths and folder \n",
    "\n",
    "root_folder = os.path.join(root_data_folder, 'ordered_data')\n",
    "new_root_folder = os.path.join(root_data_folder, 'stripped_data')\n",
    "\n",
    "## creating path from root folder\n",
    "root_path = os.path.abspath(root_folder)\n",
    "\n",
    "## making main folder lists\n",
    "mainfolders = os.listdir(root_path)\n",
    "mainfolders = [folder for folder in mainfolders if '.DS_Store' not in folder]\n",
    "\n",
    "## define new rooth path\n",
    "new_root_path = os.path.abspath(new_root_folder)\n",
    "\n",
    "## create new root folder for stripped data\n",
    "create_folder(new_root_path)\n"
   ]
  },
  {
   "cell_type": "code",
   "execution_count": 5,
   "id": "f2f724be",
   "metadata": {},
   "outputs": [],
   "source": [
    "# 2.3 preparing file paths for skull stripping and folder for saving stripped files\n",
    "\n",
    "input_paths  = []  ## input  paths list which will be skull stripped \n",
    "output_paths = []  ## output  paths list which are skull stripped \n",
    "\n",
    "for mainfolder in mainfolders:\n",
    "    \n",
    "    ## create new directory for mainfolders (for saving skull stripped folders)\n",
    "    create_folder(os.path.join(new_root_path, mainfolder))\n",
    "    \n",
    "    ## create subfolder list within main folders\n",
    "    subfolders = take_folder_list(os.path.join(root_path, mainfolder))\n",
    "     \n",
    "    for subfolder in subfolders:\n",
    "        \n",
    "        ## create new directory for subfolders (for saving skull stripped files)\n",
    "        create_folder(os.path.join(new_root_path, mainfolder, subfolder))\n",
    "               \n",
    "        ## taking case names lists within subfolder \n",
    "        case_list = take_spesific_file_names(os.path.join(root_path, mainfolder, subfolder), '.nii.gz')\n",
    "\n",
    "        ## adding cases input paths within subfolder to input path list\n",
    "        input_paths.extend([ os.path.join(root_path, mainfolder, subfolder, case) for case in case_list ])\n",
    "        \n",
    "        ## adding cases output paths within subfolder to output path list        \n",
    "        output_paths.extend([ os.path.join(new_root_path, mainfolder, subfolder, case) for case in case_list ])"
   ]
  },
  {
   "cell_type": "markdown",
   "id": "f45b8710",
   "metadata": {},
   "source": [
    "<a name='3'></a>\n",
    "# 3. create command list for terminal"
   ]
  },
  {
   "cell_type": "code",
   "execution_count": 6,
   "id": "238917be",
   "metadata": {},
   "outputs": [],
   "source": [
    "# 3.1 create list which includes all files\n",
    "\n",
    "### creating command list from input and output paths\n",
    "command_list = []\n",
    "\n",
    "for i, input_file in enumerate(input_paths):\n",
    "    \n",
    "    output_file = output_paths[i]\n",
    "\n",
    "    if check_if_files_corresponding(input_file, output_file):\n",
    "        \n",
    "        command_line = 'mri_synthstrip -i ' + input_file + ' -o ' + output_file + ';'\n",
    "        \n",
    "        command_list.append(command_line)\n",
    "        "
   ]
  },
  {
   "cell_type": "code",
   "execution_count": 7,
   "id": "af2cbab0",
   "metadata": {},
   "outputs": [],
   "source": [
    "# 3.2 choose range to process scull stripping from terminal\n",
    "\n",
    "\"\"\"\n",
    "for proccess all file at the same time set variables as follows: \n",
    "(you could copy-paste)\n",
    "\n",
    "range_begining = 0\n",
    "range_end = len(command_list)\n",
    "\n",
    "or you could set some range: \n",
    "E.g. following conditions will process files from 11th. to 20th (11th. included, 20th not included)\n",
    "\n",
    "range_begining = 10\n",
    "range_end = 20\n",
    "\n",
    "\"\"\"\n",
    "range_begining = 0\n",
    "range_end = len(command_list) \n"
   ]
  },
  {
   "cell_type": "code",
   "execution_count": null,
   "id": "044a8ff8",
   "metadata": {},
   "outputs": [],
   "source": [
    "# 3.3 print command list\n",
    "\"\"\"\n",
    "Please copy printed commands and paste them to the terminal, \n",
    "This process will automatize the stripping process for multiple files\n",
    "\n",
    "\"\"\"\n",
    "\n",
    "for i in range (range_begining, range_end):\n",
    "    print(command_list[i])"
   ]
  }
 ],
 "metadata": {
  "kernelspec": {
   "display_name": "Python 3 (ipykernel)",
   "language": "python",
   "name": "python3"
  },
  "language_info": {
   "codemirror_mode": {
    "name": "ipython",
    "version": 3
   },
   "file_extension": ".py",
   "mimetype": "text/x-python",
   "name": "python",
   "nbconvert_exporter": "python",
   "pygments_lexer": "ipython3",
   "version": "3.9.13"
  }
 },
 "nbformat": 4,
 "nbformat_minor": 5
}

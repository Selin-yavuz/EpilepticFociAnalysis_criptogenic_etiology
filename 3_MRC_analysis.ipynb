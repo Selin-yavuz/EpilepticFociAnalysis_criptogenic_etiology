{
 "cells": [
  {
   "cell_type": "markdown",
   "id": "6f5c77f4",
   "metadata": {},
   "source": [
    "\n",
    "\n",
    "This coding script makes MRC ANALYSIS\n",
    "    \n",
    "----------\n",
    "# CONTENTS\n",
    "\n",
    "-    [1. importing necessary libraries](#1)  \n",
    "             1.1 importing puclic libraries:\n",
    "                   --if this box is giving an error, this mean you need to check libraries in this cell, \n",
    "                   you need    to install them               \n",
    "             1.2 importing user-defined libraries \n",
    "                   --if this box is giving an error, this mean you need to check\n",
    "                   ipynb file(jupyter notebook) with the name of  'project_helper_functions_classes' and/or\n",
    "                   MRC_Analysis_classes_functions' within your working directory\n",
    "\n",
    "-     [2. Preperation of input informations](#2)       \n",
    "             2.1 Specify folder paths    \n",
    "                -- This part for setting folder and file names \n",
    "                for correctly loading inputs and getting desired output paths\n",
    "                -- THIS PART COULD BE EDIT depend on your data storage structure.\n",
    "             2.2 choosing calculation limits              \n",
    "                 -- This part for choosing limits for MRC calculation\n",
    "                 -- THIS PART COULD BE EDIT depend on your decision.                          \n",
    "              2.3 preparing file paths for processing and folders for saving MRC results           \n",
    "-     [3. MRC analysis and recording results to csv files](#3) \n",
    "             3.1 define function for MRC analysis \n",
    "             3.2 take MRC results\n"
   ]
  },
  {
   "cell_type": "markdown",
   "id": "bc98a562",
   "metadata": {},
   "source": [
    "<a name='1'></a>\n",
    "## 1. importing necessary libraries"
   ]
  },
  {
   "cell_type": "code",
   "execution_count": 3,
   "id": "f3b8909e",
   "metadata": {},
   "outputs": [],
   "source": [
    "# 1.1 importing puclic libraries\n",
    "import numpy as np\n",
    "import pandas as pd\n",
    "import pathlib\n",
    "import os"
   ]
  },
  {
   "cell_type": "code",
   "execution_count": 4,
   "id": "cfb9ca32",
   "metadata": {},
   "outputs": [],
   "source": [
    "# 1.2 importing user-defined libraries\n",
    "from ipynb.fs.full.project_helper_functions_classes import take_folder_list, take_special_file_list, create_folder\n",
    "from ipynb.fs.full.project_helper_functions_classes import create_mirror_subfolders\n",
    "from ipynb.fs.full.Feature_extraction_classes_functions import Feature_Extraction, check_if_MRC_completed, save_results_to_csv\n",
    "from ipynb.fs.full.Feature_extraction_classes_functions import run_apply_async_multiprocessing"
   ]
  },
  {
   "cell_type": "markdown",
   "id": "a76c1fe7",
   "metadata": {},
   "source": [
    "<a name='2'></a>\n",
    "## 2. Preperation of input informations "
   ]
  },
  {
   "cell_type": "markdown",
   "id": "7ab6feda",
   "metadata": {},
   "source": [
    "### 2.1 Specify folder paths"
   ]
  },
  {
   "cell_type": "code",
   "execution_count": 7,
   "id": "f9aa4aab",
   "metadata": {},
   "outputs": [],
   "source": [
    "data_root_folder = 'data'\n",
    "output_root_folder = 'output'      \n",
    "MRC_output_folder = 'MRC_results'   ## this folder will be created within code as: output_root_folder/MRC_output_folder"
   ]
  },
  {
   "cell_type": "markdown",
   "id": "30019ae3",
   "metadata": {},
   "source": [
    "### 2.2 choosing calculation limits"
   ]
  },
  {
   "cell_type": "code",
   "execution_count": 9,
   "id": "123648e7",
   "metadata": {},
   "outputs": [],
   "source": [
    "min_step, max_step = 1, 5\n",
    "min_power, max_power = 1, 2\n",
    "ROI_shapes = ['circle', 'square'] \n",
    "\n",
    "## calculation_options for rates\n",
    "primary_rate = 'all'  # (input options: 'all', 1, 2, 3)\n",
    "secondary_rate = 'all'  # (input options: 'all', 1, 2, 3, 4, 5, 6, 7, 8)\n",
    "\n",
    "## calculation limits\n",
    "calculate_all_powers = True   # (input options: True, False)\n",
    "calculate_all_steps = True    # (input options: True, False)"
   ]
  },
  {
   "cell_type": "markdown",
   "id": "f89ce213",
   "metadata": {},
   "source": [
    "### 2.3 preparing file paths for processing and folders for saving MRC results "
   ]
  },
  {
   "cell_type": "code",
   "execution_count": 11,
   "id": "d8489ab1",
   "metadata": {},
   "outputs": [],
   "source": [
    "stripped_data_folder_path =  os.path.abspath(os.path.join(data_root_folder, 'stripped_data'))\n",
    "original_data_folder_path =  os.path.abspath(os.path.join(data_root_folder, 'ordered_data'))\n",
    "mainfolders = take_folder_list(stripped_data_folder_path)\n",
    "\n",
    "## specify file list for proccess and folder list for record\n",
    "file_names_list, folder_path_list = take_special_file_list(mainfolders, stripped_data_folder_path, original_data_folder_path)\n",
    "\n",
    "output_path = os.path.join(os.path.abspath(output_root_folder), MRC_output_folder)\n",
    "create_folder(output_path)\n",
    "create_mirror_subfolders(folder_paths =folder_path_list, \n",
    "                         old_root_path = stripped_data_folder_path, new_root_path = output_path)\n",
    "## update files list\n",
    "file_names_list = [files for files in file_names_list if not check_if_MRC_completed(output_path, files[0], stripped_data_folder_path, min_step, max_step)]\n"
   ]
  },
  {
   "cell_type": "markdown",
   "id": "e1c60f88",
   "metadata": {},
   "source": [
    "<a name='3'></a>\n",
    "## 3. MRC analysis and recording to csv files"
   ]
  },
  {
   "cell_type": "markdown",
   "id": "32f28e42",
   "metadata": {},
   "source": [
    "### 3.1 create functions for MRC analysis by using multiprocessing "
   ]
  },
  {
   "cell_type": "code",
   "execution_count": 14,
   "id": "5ac10c9e",
   "metadata": {},
   "outputs": [],
   "source": [
    "def MRC_analysis(file_names):\n",
    "    \n",
    "    ## check if MRC files created before as in desired limits     \n",
    "    if check_if_MRC_completed(output_path, file_names[0], stripped_data_folder_path, min_step, max_step) :        \n",
    "        return(0)\n",
    "\n",
    "    # define inner function to making MRC analysis for different ROI shapes\n",
    "    def MRC_calculation_(roi_shape):\n",
    "        fe = Feature_Extraction(stripped = file_names[0], original = file_names[1], \n",
    "                                min_power = min_power, max_power = max_power,\n",
    "                                min_step = min_step, max_step = max_step,\n",
    "                                ROI_shape = roi_shape, \n",
    "                                primary_rate = primary_rate, secondary_rate = secondary_rate,\n",
    "                                all_powers = calculate_all_powers, all_steps = calculate_all_steps)\n",
    "        fe.calculate_features(calculate_MRC = True)\n",
    "        return(fe.MRC_results)\n",
    "\n",
    "    results = list(map(MRC_calculation_, ROI_shapes))\n",
    "\n",
    "     # unite different ROI shape results if 2 shape are givev\n",
    "    if len(results) == 2:\n",
    "        MRC_results = pd.concat([results[0],  results[1]], ignore_index=True) # unite different ROI results\n",
    "\n",
    "    if len(results) == 1:\n",
    "        MRC_results = results[0]\n",
    "\n",
    "\n",
    "    save_results_to_csv(MRC_results, output_path, file_names[0], stripped_data_folder_path)\n",
    "\n"
   ]
  },
  {
   "cell_type": "markdown",
   "id": "e5b99ed4",
   "metadata": {},
   "source": [
    "### 3.2 take MRC results"
   ]
  },
  {
   "cell_type": "code",
   "execution_count": 16,
   "id": "b71488e5",
   "metadata": {},
   "outputs": [
    {
     "name": "stderr",
     "output_type": "stream",
     "text": [
      "100%|█████████████████████████████████████████| 303/303 [22:56<00:00,  4.54s/it]\n"
     ]
    }
   ],
   "source": [
    "if __name__ == '__main__':\n",
    "    \n",
    "    run_apply_async_multiprocessing(MRC_analysis, file_names_list, 1)"
   ]
  },
  {
   "cell_type": "code",
   "execution_count": null,
   "id": "8cc2dcb4-9e34-4d20-938d-3ff785a0ed70",
   "metadata": {},
   "outputs": [],
   "source": []
  }
 ],
 "metadata": {
  "kernelspec": {
   "display_name": "Python 3 (ipykernel)",
   "language": "python",
   "name": "python3"
  },
  "language_info": {
   "codemirror_mode": {
    "name": "ipython",
    "version": 3
   },
   "file_extension": ".py",
   "mimetype": "text/x-python",
   "name": "python",
   "nbconvert_exporter": "python",
   "pygments_lexer": "ipython3",
   "version": "3.12.2"
  }
 },
 "nbformat": 4,
 "nbformat_minor": 5
}

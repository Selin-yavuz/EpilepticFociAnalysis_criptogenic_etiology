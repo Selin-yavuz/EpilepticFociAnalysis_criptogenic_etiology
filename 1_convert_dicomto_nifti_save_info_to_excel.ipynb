{
 "cells": [
  {
   "cell_type": "markdown",
   "id": "f638865a",
   "metadata": {},
   "source": [
    "\n",
    "\n",
    "This coding script makes:\n",
    "\n",
    "     1. Transform dicom files to nifti format:\n",
    "         The code will transform dicom files to the nifti format \n",
    "         by protecting the hierarchy with input data folders\n",
    "     2. Record acquisition informations to an excel file:\n",
    "         The code will give an excel file which is including dicom information \n",
    "         together with corresponding assigned id of each case\n",
    "     \n",
    "----------\n",
    "\n",
    "## Contents\n",
    "\n",
    "-    [1. importing necessary libraries](#1)    \n",
    "         1.1 importing puclic libraries:\n",
    "               --if this box is giving an error, this mean you need to check libraries in this cell, \n",
    "               you need    to install them               \n",
    "         1.2 importing user-defined libraries \n",
    "               --if this box is giving an error, this mean you need to check\n",
    "               ipynb file(jupyter notebook) with the name of  'project_helper_functions_classes' \n",
    "               within your working directory\n",
    "                              \n",
    "-    [2. Preperation of input informations](#2)    \n",
    "    \n",
    "        -- This part for setting folder and file names \n",
    "        for correctly loading inputs and getting desired output paths\n",
    "        -- only THIS PART COULD BE EDIT depend on your data storage structure.\n",
    "        -- if you would like to change name of the folders or files, \n",
    "        please change only right side of equation carefully without changing the structure of the object\n",
    "        \n",
    "        IMPORTANT NOTE for storaging input data:\n",
    "           -- The folders' hierarchy should be as follows:                       \n",
    "                    *input_data_folder \n",
    "                        ** main_folders(e.g. : patients, controls) \n",
    "                           IMPORTANT NOTE: patients' folder name should begin with 'p' \n",
    "                           IMPORTANT NOTE: controls' folder name should begin with 'c' \n",
    "                            *** case_folders(e.g.:caseX) \n",
    "                                **** MRI_type_folder(e.g.: t2_coronal, t1_axial ) \n",
    "                                    ***** MRI_files(e.g. : mri_.dcm)                                    \n",
    "           -- Please storage only related folders and files inside each folder. \n",
    "               Othervise, code may not work as desired\n",
    "               \n",
    "-    [3. Converting dicom files to nifti format](#3)        \n",
    "          3.1 preparation for converting dicom files into nifti form         \n",
    "          3.2 converting each dicom file to nitfi format with protecting hierarchy and folder names\n",
    "          3.3 create simple hierarchy for using nifti files in further proccess\n",
    "            -- New hierarchy of data storage will be as follows:    \n",
    "                *ordered_nifti_folder\n",
    "                    ** main_folders(e.g. : patient_folder, control_folder)\n",
    "                        *** MRI_type_folder(e.g.: t2_tra, t1_axial ) \n",
    "                            **** nifti files(e.g. : case1.nii.gz)            \n",
    "    \n",
    "-    [4.  Acquire dicom files informations and update storage hierarchy by assigning specific numbers to cases](#4)   \n",
    "           4.1 preparation for recording informations          \n",
    "           4.2 store acquisition info from dcm files\n",
    "\n",
    "-    [5. Save informations to excel file](#5)\n",
    "    "
   ]
  },
  {
   "cell_type": "markdown",
   "id": "e22b257b",
   "metadata": {},
   "source": [
    "<a name='1'></a>\n",
    "# 1. importing necessary libraries"
   ]
  },
  {
   "cell_type": "markdown",
   "id": "27772018",
   "metadata": {},
   "source": [
    "### 1.1 importing puclic libraries"
   ]
  },
  {
   "cell_type": "code",
   "execution_count": null,
   "id": "e574a278",
   "metadata": {},
   "outputs": [],
   "source": [
    "import os \n",
    "import xlsxwriter\n",
    "import pandas as pd\n",
    "import shutil"
   ]
  },
  {
   "cell_type": "markdown",
   "id": "305929a7",
   "metadata": {},
   "source": [
    "### 1.2 importing user-defined libraries"
   ]
  },
  {
   "cell_type": "code",
   "execution_count": 1,
   "id": "61f64e8f",
   "metadata": {},
   "outputs": [],
   "source": [
    "from ipynb.fs.full.project_helper_functions_classes import create_folder, convert_dcm_folders_to_nifti_folder,take_acquisition_info"
   ]
  },
  {
   "cell_type": "markdown",
   "id": "40123475",
   "metadata": {},
   "source": [
    "<a name='2'></a>\n",
    "# 2. Preperation of input informations "
   ]
  },
  {
   "cell_type": "code",
   "execution_count": null,
   "id": "474ddcfc",
   "metadata": {},
   "outputs": [],
   "source": [
    "## spesify input data folder name and output data folder name \n",
    " \n",
    "# 'img_folder' should be exist before coding script and includes all types image data \n",
    "img_folder = 'data'   \n",
    "\n",
    "# 'dcm_folder' should be exist before coding script and includes dicom images folders (this folder within img_folder)\n",
    "dcm_folder = 'dicom_data'      \n",
    "\n",
    "## 'nifti_folder' will be created with code,  and will include nifti images folders (this folder within img_folder)\n",
    "nifti_folder = 'nifti' \n",
    "\n",
    "## 'output_folder' will be created with code, and will excel file will be saved into it\n",
    "output_folder = 'output'         \n",
    "\n",
    "## write 2 main folders for patients and controls which are including cases datasets(under dcm_folder) \n",
    "## note: there should be 2 main folders, first letter should be 'p' : for patient folder, 'c' : for controls\n",
    "mainfolders = [\"patients\", \"controls\"]    \n",
    "\n",
    "## write all MRI types you have (it is not important if some patients does not have each type data)\n",
    "subfolder_list = ['t2_tra', 't2_cor', 't1_tra', 't1_sag', 't2_darkfluid_tra']\n",
    "\n",
    "## chose a representative word for saving and using your data during analysis\n",
    "case_sign = 'case'\n",
    "\n",
    "## choose a name for excel file for recording acquisition informations\n",
    "excel_name = 'MRI_informations.xlsx'\n"
   ]
  },
  {
   "cell_type": "markdown",
   "id": "7578efb3",
   "metadata": {},
   "source": [
    "<a name='3'></a>\n",
    "# 3. Converting dicom files to nifti format"
   ]
  },
  {
   "cell_type": "markdown",
   "id": "2361c7d8",
   "metadata": {},
   "source": [
    "### 3.1 preparation for converting dicom files into nifti form"
   ]
  },
  {
   "cell_type": "code",
   "execution_count": null,
   "id": "143062c6",
   "metadata": {},
   "outputs": [],
   "source": [
    "nifti_folder_path = create_folder(os.path.join(img_folder, nifti_folder)) \n",
    "dicom_folder_path = os.path.abspath(os.path.join(img_folder, dcm_folder))"
   ]
  },
  {
   "cell_type": "markdown",
   "id": "d3869a56",
   "metadata": {},
   "source": [
    "### 3.2 converting each dicom file to nitfi format with protecting hierarchy and folder names"
   ]
  },
  {
   "cell_type": "code",
   "execution_count": null,
   "id": "f6936b42",
   "metadata": {},
   "outputs": [],
   "source": [
    "dcm_converter = convert_dcm_folders_to_nifti_folder()\n",
    "dcm_converter.transform_files(dicom_folder_path, nifti_folder_path)"
   ]
  },
  {
   "cell_type": "markdown",
   "id": "1626de0d",
   "metadata": {},
   "source": [
    "### 3.3 create simple hierarchy for using nifti files in further proccess"
   ]
  },
  {
   "cell_type": "code",
   "execution_count": null,
   "id": "77777dda",
   "metadata": {},
   "outputs": [],
   "source": [
    "ordered_data_path = create_folder(os.path.join(img_folder , 'ordered_data')) \n",
    "for i, mainfolder in enumerate(mainfolders):\n",
    "    ordered_main_folder_path = create_folder(os.path.join(ordered_data_path, mainfolder))    \n",
    "    for subfolder in subfolder_list:        \n",
    "        create_folder(os.path.join(ordered_main_folder_path, subfolder))    "
   ]
  },
  {
   "cell_type": "markdown",
   "id": "5b6b3ba6",
   "metadata": {},
   "source": [
    "<a name='4'></a>\n",
    "# 4.  Acquire dicom files informations and update storage hierarchy by assigning specific numbers to cases"
   ]
  },
  {
   "cell_type": "markdown",
   "id": "625a02da",
   "metadata": {},
   "source": [
    "### 4.1 preparation for recording information"
   ]
  },
  {
   "cell_type": "code",
   "execution_count": null,
   "id": "719afbc4",
   "metadata": {},
   "outputs": [],
   "source": [
    "columns = ['input_name', 'case_name','TR', 'TE', 'FA', 'Percent_Phase_FOV', \n",
    "           'Spacing_Between_Slices', 'Slice_Thickness'\n",
    "        'Rows', 'Columns', 'Pixel_Spacing', 'Acquisition_Matrix', \n",
    "           'MR_Acquisition_Type', 'Manufacturer'\n",
    "        'Magnetic_Field_Strength']\n",
    "\n",
    "df_mri = {}\n",
    "for mainfolder in mainfolders:\n",
    "    df_mri[mainfolder] = {}\n",
    "    for subfolder in subfolder_list:\n",
    "        df_mri[mainfolder][subfolder] = pd.DataFrame(columns = columns)"
   ]
  },
  {
   "cell_type": "markdown",
   "id": "d3c2d94f",
   "metadata": {},
   "source": [
    "### 4.2 store acquisition info from dcm files"
   ]
  },
  {
   "cell_type": "code",
   "execution_count": null,
   "id": "a0bbff68",
   "metadata": {},
   "outputs": [],
   "source": [
    "for mainfolder in mainfolders:    \n",
    "    case_names = take_folder_list(os.path.join(dicom_folder_path, mainfolder))       \n",
    "    for case in case_names:        \n",
    "        for subfolder in subfolder_list:            \n",
    "            nifti_subfolder_path = os.path.join(nifti_folder_path, mainfolder , case, subfolder)            \n",
    "            if os.path.isdir(nifti_subfolder_path):                \n",
    "                dicom_path = os.path.join(dicom_folder_path, mainfolder, case, subfolder)                               \n",
    "                case_id = case_sign + str(len(df_mri[mainfolder][subfolder]) + 1)                 \n",
    "                dicom_info = take_acquisition_info(dicom_path,  case, case_id)\n",
    "                df_mri[mainfolder][subfolder] = pd.concat([df_mri[mainfolder][subfolder], dicom_info], \n",
    "                                              axis=0, join='outer', ignore_index=True)\n",
    "                target = os.path.join(ordered_data_path, mainfolder, subfolder, case_id + '.nii.gz')                \n",
    "                source_file = [file for file in os.listdir(nifti_subfolder_path) if '.nii.gz' in file][0]\n",
    "                source_path = os.path.join(nifti_subfolder_path, source_file)                \n",
    "                shutil.copy(source_path, target)"
   ]
  },
  {
   "cell_type": "markdown",
   "id": "182892d2",
   "metadata": {},
   "source": [
    "<a name='5'></a>\n",
    "# 5. Save informations to excel file"
   ]
  },
  {
   "cell_type": "code",
   "execution_count": null,
   "id": "cb35a8c4",
   "metadata": {},
   "outputs": [],
   "source": [
    "output_folder_path = create_folder(output_folder)\n",
    "excel_path = os.path.join(output_folder_path, excel_name)\n",
    "with pd.ExcelWriter(excel_path) as writer:  \n",
    "    for mainfolder in mainfolders:\n",
    "        for subfolder in subfolder_list:\n",
    "            sheetname = mainfolder + '_' + subfolder            \n",
    "            df_mri[mainfolder][subfolder].to_excel(writer, sheet_name = sheetname)        "
   ]
  }
 ],
 "metadata": {
  "kernelspec": {
   "display_name": "Python 3 (ipykernel)",
   "language": "python",
   "name": "python3"
  },
  "language_info": {
   "codemirror_mode": {
    "name": "ipython",
    "version": 3
   },
   "file_extension": ".py",
   "mimetype": "text/x-python",
   "name": "python",
   "nbconvert_exporter": "python",
   "pygments_lexer": "ipython3",
   "version": "3.9.13"
  }
 },
 "nbformat": 4,
 "nbformat_minor": 5
}

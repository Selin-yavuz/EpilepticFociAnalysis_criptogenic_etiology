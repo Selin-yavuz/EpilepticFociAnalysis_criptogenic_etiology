{
 "cells": [
  {
   "cell_type": "markdown",
   "id": "2657171d",
   "metadata": {},
   "source": [
    "    \n",
    "----------\n",
    "# CONTENTS\n",
    "\n",
    "-    [Specify Input Data ](#0)  \n",
    "\n",
    "-    [1. MRC analysis](#1)       \n",
    "      \n",
    "-    [2. MRC - Statistical analysis ](#2) \n",
    "            \n",
    "-    [3. EPE analysis ](#3)\n"
   ]
  },
  {
   "cell_type": "code",
   "execution_count": 7,
   "id": "f15d68ba",
   "metadata": {},
   "outputs": [],
   "source": [
    "import os\n",
    "import numpy as np\n",
    "import nibabel as nib\n",
    "import pandas as pd\n",
    "import matplotlib as mpl"
   ]
  },
  {
   "cell_type": "code",
   "execution_count": 8,
   "id": "9f6bd450",
   "metadata": {},
   "outputs": [],
   "source": [
    "from ipynb.fs.full.Whole_project_classes import *\n",
    "from ipynb.fs.full.visualization_helper_functions import *"
   ]
  },
  {
   "cell_type": "markdown",
   "id": "5e956785",
   "metadata": {},
   "source": [
    "<a name='0'></a>\n",
    "## Specify Input Data "
   ]
  },
  {
   "cell_type": "code",
   "execution_count": 9,
   "id": "b514dae4",
   "metadata": {},
   "outputs": [],
   "source": [
    "## path info\n",
    "stripped_data_folder = 'data/stripped_data'\n",
    "original_data_folder = 'data/ordered_data'\n",
    "situations = ['controls', 'patients']\n",
    "output_root_folder = 'output'\n",
    "MRI_info_excel_name = 'MRI_informations.xlsx'\n",
    "MRC_output_folder = 'MRC_results'   ## this folder will be created within code as: output_root_folder/MRC_output_folder\n",
    "MRC_stat_results_folder = 'MRC_stat_results'\n",
    "EPE_stat_results_folder = 'EPE_stat_results'\n",
    "feature_storage_folder = 'features'\n",
    "EPE_csv_file_name = 'results.csv'\n",
    "coll_EPE_csv_file_name = 'coll_results.csv'\n",
    "p_csv_path, auc_csv_path  = 'p_values.csv', 'auc_values.csv'\n",
    "meaningful_stat_csv_path, selected_features_path = 'meaningful_stats.csv', 'selected_features.csv'\n",
    "coll_p_csv_path, coll_auc_csv_path = 'p_values_collective.csv', 'auc_values_collective.csv'\n",
    "coll_meaningful_stat_csv_path, coll_selected_features_path = 'meaningful_collective_stats.csv', 'selected_features_coll.csv'\n",
    "\n",
    "## sequences info\n",
    "sequence_dict = {'t1': ['t1_tra', 't1_sag']}\n",
    "\n",
    "## analysis limits\n",
    "AUC_limit = 0.7\n",
    "p_limit = 0.01\n",
    "minimum_step , maximum_step = 4, 5\n",
    "minimum_power, maximum_power = 2, 3\n",
    "primary_rate_calculation = 'all'\n",
    "secondary_rate_calculation = 'all'\n",
    "calculate_all_powers = True\n",
    "calculate_all_steps = True\n",
    "take_p_values_in_csv, take_auc_values_in_csv, take_meaningful_values_csv = True, True, True\n",
    "EPE_analysis_proccess_follow = 'none'\n",
    "EPE_specificity_min = 0.90\n",
    "EPE_sensitivity_min = 0.60\n",
    "EPE_analysis_per_case_research_value_limit = 20\n",
    "processor_numbers_for_paralel_calculation = 4\n",
    "processor_numbers_for_paralel_calculation_coll = 2"
   ]
  },
  {
   "cell_type": "markdown",
   "id": "a042e1c9",
   "metadata": {},
   "source": [
    "<a name='1'></a>\n",
    "## 1. MRC analysis"
   ]
  },
  {
   "cell_type": "code",
   "execution_count": 10,
   "id": "e4c9132a",
   "metadata": {},
   "outputs": [
    {
     "name": "stderr",
     "output_type": "stream",
     "text": [
      "0it [00:00, ?it/s]\n"
     ]
    }
   ],
   "source": [
    "MRC_Analysis = MRC_Analysis( stripped_data_folder,\n",
    "    original_data_folder,\n",
    "    output_root_folder,\n",
    "    MRC_output_folder,\n",
    "    MRC_analysis_features={'min_step': minimum_step, 'max_step': maximum_step, \n",
    "                            'min_power' :minimum_power, 'max_power' : maximum_power,\n",
    "                           'ROI_shapes': ['circle', 'square'],\n",
    "                           'primary_rate': primary_rate_calculation, \n",
    "                           'secondary_rate': secondary_rate_calculation, \n",
    "                           'calculate_all_powers': calculate_all_powers, \n",
    "                           'calculate_all_steps': calculate_all_steps})\n",
    "\n",
    "MRC_Analysis.make_MRC_analysis()"
   ]
  },
  {
   "cell_type": "markdown",
   "id": "d1a59bc4",
   "metadata": {},
   "source": [
    "<a name='2'></a>\n",
    "## 2. MRC - Statistical analysis "
   ]
  },
  {
   "cell_type": "code",
   "execution_count": 11,
   "id": "2b1f76f6",
   "metadata": {},
   "outputs": [
    {
     "name": "stderr",
     "output_type": "stream",
     "text": [
      "100%|█████████████████████████████████████████████| 5/5 [01:11<00:00, 14.22s/it]\n",
      "100%|█████████████████████████████████████████████| 1/1 [00:14<00:00, 14.21s/it]\n"
     ]
    }
   ],
   "source": [
    "MRC_stat = MRC_statistical_analysis(stripped_data_folder = stripped_data_folder, \n",
    "                 output_root_folder = output_root_folder, \n",
    "                 MRC_output_folder = os.path.join(output_root_folder, MRC_output_folder),\n",
    "                 stat_results_folder = MRC_stat_results_folder, \n",
    "              stat_limits = {'auc_limit' : AUC_limit, 'p_limit' : p_limit})\n",
    "\n",
    "## make analysis per MRI type\n",
    "MRC_stat.make_analysis(take_p_csv = take_p_values_in_csv, \n",
    "                       take_auc_csv = take_auc_values_in_csv, \n",
    "                       take_meaningful_csv = take_meaningful_values_csv)\n",
    "\n",
    "MRC_stat.save_results(p_csv_path = p_csv_path, auc_csv_path = auc_csv_path, \n",
    "                      meaningful_stat_csv_path = meaningful_stat_csv_path,\n",
    "                      selected_features_path = selected_features_path,\n",
    "                     sort_columns = True)\n",
    "\n",
    "## make analysis per sequence (collective analysis)\n",
    "MRC_stat.make_collective_analysis(take_p_csv = take_p_values_in_csv, \n",
    "                                  take_auc_csv = take_auc_values_in_csv, \n",
    "                                  take_meaningful_csv = take_meaningful_values_csv,\n",
    "                                 sequences = sequence_dict,\n",
    "                                case_info_excel_file = os.path.join(output_root_folder, MRI_info_excel_name))\n",
    "\n",
    "MRC_stat.save_results(p_csv_path = coll_p_csv_path, auc_csv_path = coll_auc_csv_path, \n",
    "                      meaningful_stat_csv_path = coll_meaningful_stat_csv_path,\n",
    "                      selected_features_path = coll_selected_features_path,\n",
    "                         sort_columns = True)"
   ]
  },
  {
   "cell_type": "markdown",
   "id": "a4defb0e",
   "metadata": {},
   "source": [
    "<a name='3'></a>\n",
    "## 3. EPE analysis "
   ]
  },
  {
   "cell_type": "code",
   "execution_count": null,
   "id": "6f05ed4e",
   "metadata": {},
   "outputs": [],
   "source": [
    "epe = EPE_Analysis__(stripped_data_folder = stripped_data_folder,\n",
    "            original_data_folder = original_data_folder,\n",
    "            output_root_folder = output_root_folder,\n",
    "            stat_results = EPE_stat_results_folder, \n",
    "            feature_out = feature_storage_folder)\n",
    "\n",
    "epe.make_analysis(features_csv_path = os.path.join(MRC_stat_results_folder, selected_features_path), \n",
    "                      EPE_stat_file_name = EPE_csv_file_name,\n",
    "                      specificity_min = EPE_specificity_min, sensitivity_min = EPE_sensitivity_min, \n",
    "                      per_case_value_limit = EPE_analysis_per_case_research_value_limit,\n",
    "                      record_features = True,\n",
    "                      follow_proccess = EPE_analysis_proccess_follow,\n",
    "                     processor_number = processor_numbers_for_paralel_calculation)\n",
    "\n",
    "epe.make_collective_analysis(features_collective_csv_path = os.path.join(MRC_stat_results_folder, coll_selected_features_path), \n",
    "                      coll_EPE_stat_file_name = coll_EPE_csv_file_name,\n",
    "                      sequences = sequence_dict,\n",
    "                      case_info_excel_file = os.path.join(output_root_folder, MRI_info_excel_name),\n",
    "                      specificity_min = EPE_specificity_min, sensitivity_min = EPE_sensitivity_min, \n",
    "                      per_case_value_limit = EPE_analysis_per_case_research_value_limit,\n",
    "                      record_features = True,\n",
    "                      follow_proccess = EPE_analysis_proccess_follow,\n",
    "                     processor_number = processor_numbers_for_paralel_calculation_coll)"
   ]
  }
 ],
 "metadata": {
  "kernelspec": {
   "display_name": "Python 3 (ipykernel)",
   "language": "python",
   "name": "python3"
  },
  "language_info": {
   "codemirror_mode": {
    "name": "ipython",
    "version": 3
   },
   "file_extension": ".py",
   "mimetype": "text/x-python",
   "name": "python",
   "nbconvert_exporter": "python",
   "pygments_lexer": "ipython3",
   "version": "3.9.13"
  }
 },
 "nbformat": 4,
 "nbformat_minor": 5
}
